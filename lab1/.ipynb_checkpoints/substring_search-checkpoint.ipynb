{
 "cells": [
  {
   "cell_type": "code",
   "execution_count": 2,
   "metadata": {},
   "outputs": [],
   "source": [
    "def naive_substring_search(text, pattern):\n",
    "    \n",
    "    occurences_array = []\n",
    "    \n",
    "    for s in range(0, len(text) - len(pattern) + 1):\n",
    "        if text[s:s+len(pattern)] == pattern:\n",
    "            occurences_array.append(s)\n",
    "    return occurences_array\n",
    "    "
   ]
  },
  {
   "cell_type": "code",
   "execution_count": 25,
   "metadata": {},
   "outputs": [
    {
     "data": {
      "text/plain": [
       "<_io.TextIOWrapper name='1997_714.txt' mode='r' encoding='cp1250'>"
      ]
     },
     "execution_count": 25,
     "metadata": {},
     "output_type": "execute_result"
    }
   ],
   "source": [
    "f = open(\"1997_714.txt\",\"r\")\n",
    "#lines = f.readlines()\n",
    "f"
   ]
  },
  {
   "cell_type": "code",
   "execution_count": 79,
   "metadata": {},
   "outputs": [],
   "source": [
    "\n",
    "\n",
    "def prepare_automata(pattern):\n",
    "    alphabet_symbols = set(pattern)\n",
    "    transition_table = []\n",
    "    \n",
    "    for i in range(len(pattern)+1):\n",
    "        transition_table.append({})\n",
    "        \n",
    "        for x in alphabet_symbols:\n",
    "            k = min(len(pattern) + 1, i + 2)\n",
    "            while True:\n",
    "                k = k - 1\n",
    "                l = i - k + 1\n",
    "                if l < 0: \n",
    "                    l=0\n",
    "                if k < 1:\n",
    "                    break\n",
    "                if pattern[:k] == (pattern[l :i] + x):\n",
    "                    break\n",
    "            transition_table[i][x] = k    \n",
    "    return transition_table\n",
    "    \n",
    "    "
   ]
  },
  {
   "cell_type": "code",
   "execution_count": 66,
   "metadata": {},
   "outputs": [
    {
     "data": {
      "text/plain": [
       "[{'c': 0, 'a': 1, 'b': 0},\n",
       " {'c': 0, 'a': 1, 'b': 2},\n",
       " {'c': 3, 'a': 1, 'b': 0},\n",
       " {'c': 0, 'a': 1, 'b': 0}]"
      ]
     },
     "execution_count": 66,
     "metadata": {},
     "output_type": "execute_result"
    }
   ],
   "source": [
    "prepare_automata(\"abc\")"
   ]
  },
  {
   "cell_type": "code",
   "execution_count": 77,
   "metadata": {},
   "outputs": [],
   "source": [
    "def finite_automata_matching(text, pattern):\n",
    "    trans_array = prepare_automata(pattern)\n",
    "    shift_arr = []\n",
    "    state = 0\n",
    "    for i in range(len(text)):\n",
    "        try:\n",
    "            state = trans_array[state][text[i]]\n",
    "        except:\n",
    "            state = 0\n",
    "        if state == len(pattern):\n",
    "            shift_arr.append( i+1-state)\n",
    "    return shift_arr"
   ]
  },
  {
   "cell_type": "code",
   "execution_count": 80,
   "metadata": {},
   "outputs": [
    {
     "data": {
      "text/plain": [
       "[0, 4]"
      ]
     },
     "execution_count": 80,
     "metadata": {},
     "output_type": "execute_result"
    }
   ],
   "source": [
    "finite_automata_matching(\"abcdabc\",\"abc\")"
   ]
  },
  {
   "cell_type": "code",
   "execution_count": null,
   "metadata": {},
   "outputs": [],
   "source": [
    "def kmp_matching"
   ]
  }
 ],
 "metadata": {
  "kernelspec": {
   "display_name": "Python 3",
   "language": "python",
   "name": "python3"
  },
  "language_info": {
   "codemirror_mode": {
    "name": "ipython",
    "version": 3
   },
   "file_extension": ".py",
   "mimetype": "text/x-python",
   "name": "python",
   "nbconvert_exporter": "python",
   "pygments_lexer": "ipython3",
   "version": "3.7.3"
  }
 },
 "nbformat": 4,
 "nbformat_minor": 2
}
