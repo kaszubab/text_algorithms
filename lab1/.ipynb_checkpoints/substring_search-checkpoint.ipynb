{
 "cells": [
  {
   "cell_type": "code",
   "execution_count": 8,
   "metadata": {},
   "outputs": [],
   "source": [
    "f = open(\"1997_714.txt\",\"r\",errors = 'ignore')\n",
    "\n",
    "lines = f.read()\n",
    "    \n"
   ]
  },
  {
   "cell_type": "code",
   "execution_count": 9,
   "metadata": {},
   "outputs": [],
   "source": [
    "import substring_algorithms "
   ]
  },
  {
   "cell_type": "markdown",
   "metadata": {},
   "source": [
    "### Tests of correctness"
   ]
  },
  {
   "cell_type": "code",
   "execution_count": 10,
   "metadata": {},
   "outputs": [],
   "source": [
    "results = []\n",
    "\n",
    "results.append(substring_algorithms.finite_automata_matching(lines,\"art\"))\n",
    "results.append(substring_algorithms.kmp_matching(lines,\"art\"))\n",
    "results.append(substring_algorithms.naive_substring_search(lines,\"art\"))"
   ]
  },
  {
   "cell_type": "code",
   "execution_count": 11,
   "metadata": {},
   "outputs": [
    {
     "name": "stdout",
     "output_type": "stream",
     "text": [
      "set()\n",
      "set()\n"
     ]
    }
   ],
   "source": [
    "print(set(results[2]) - set(results[0]))\n",
    "print(set(results[2]) - set(results[1]))"
   ]
  },
  {
   "cell_type": "code",
   "execution_count": 13,
   "metadata": {},
   "outputs": [],
   "source": [
    "import time\n",
    "\n",
    "def benchmark_algorithm(algorithm, text, pattern):\n",
    "    result = 0\n",
    "    for i in range (10):\n",
    "        start = time.time()\n",
    "        algorithm(text, pattern)\n",
    "        result += time.time() - start\n",
    "    print(\"Running time of \" + algorithm.__name__ + \"  = \" + str(round(result/10,4)) + \"s\")"
   ]
  },
  {
   "cell_type": "code",
   "execution_count": 14,
   "metadata": {},
   "outputs": [],
   "source": [
    "tested_algorithms = []\n",
    "tested_algorithms.append(substring_algorithms.kmp_matching)\n",
    "tested_algorithms.append(substring_algorithms.finite_automata_matching)\n",
    "tested_algorithms.append(substring_algorithms.naive_substring_search)"
   ]
  },
  {
   "cell_type": "markdown",
   "metadata": {},
   "source": [
    "### Comparison of running times of algorithms for natural inputs"
   ]
  },
  {
   "cell_type": "code",
   "execution_count": 15,
   "metadata": {},
   "outputs": [
    {
     "name": "stdout",
     "output_type": "stream",
     "text": [
      "Running time of kmp_matching  = 0.0872s\n",
      "Running time of finite_automata_matching  = 0.0722s\n",
      "Running time of naive_substring_search  = 0.0441s\n"
     ]
    }
   ],
   "source": [
    "for x in tested_algorithms:\n",
    "    benchmark_algorithm(x, lines, \"art\")"
   ]
  },
  {
   "cell_type": "code",
   "execution_count": 17,
   "metadata": {},
   "outputs": [
    {
     "name": "stdout",
     "output_type": "stream",
     "text": [
      "Running time of kmp_matching  = 0.9594s\n",
      "Running time of finite_automata_matching  = 0.7111s\n",
      "Running time of naive_substring_search  = 0.4861s\n"
     ]
    }
   ],
   "source": [
    "for x in tested_algorithms:\n",
    "    benchmark_algorithm(x, lines * 10, \"art\")"
   ]
  },
  {
   "cell_type": "code",
   "execution_count": 18,
   "metadata": {},
   "outputs": [
    {
     "name": "stdout",
     "output_type": "stream",
     "text": [
      "Running time of kmp_matching  = 0.0008s\n",
      "Running time of finite_automata_matching  = 0.0004s\n",
      "Running time of naive_substring_search  = 0.0004s\n"
     ]
    }
   ],
   "source": [
    "for x in tested_algorithms: # 1000 signs from legal text\n",
    "    benchmark_algorithm(x, lines[0:1000], \"art\")"
   ]
  },
  {
   "cell_type": "code",
   "execution_count": 19,
   "metadata": {},
   "outputs": [
    {
     "name": "stdout",
     "output_type": "stream",
     "text": [
      "Running time of kmp_matching  = 0.0052s\n",
      "Running time of finite_automata_matching  = 0.004s\n",
      "Running time of naive_substring_search  = 0.002s\n"
     ]
    }
   ],
   "source": [
    "for x in tested_algorithms: # 10000 signs from legal text\n",
    "    benchmark_algorithm(x, lines[0:10000], \"art\")"
   ]
  },
  {
   "cell_type": "markdown",
   "metadata": {},
   "source": [
    "### Running time for random pattern"
   ]
  },
  {
   "cell_type": "code",
   "execution_count": 20,
   "metadata": {},
   "outputs": [
    {
     "name": "stdout",
     "output_type": "stream",
     "text": [
      "Running time of kmp_matching  = 0.0872s\n",
      "Running time of finite_automata_matching  = 0.0769s\n",
      "Running time of naive_substring_search  = 0.0536s\n"
     ]
    }
   ],
   "source": [
    "for x in tested_algorithms:\n",
    "    benchmark_algorithm(x, lines, \"absdafhjashfkjsafjkasfjkasjfhjacajk\")\n",
    "    "
   ]
  },
  {
   "cell_type": "markdown",
   "metadata": {},
   "source": [
    "### Worst case for naive algorithm (long pattern with many repeating characters, long text with many repeating characters similar to the pattern)"
   ]
  },
  {
   "cell_type": "code",
   "execution_count": 27,
   "metadata": {},
   "outputs": [
    {
     "name": "stdout",
     "output_type": "stream",
     "text": [
      "Running time of kmp_matching  = 0.4013s\n",
      "Running time of finite_automata_matching  = 0.2299s\n",
      "Running time of naive_substring_search  = 6.8841s\n"
     ]
    }
   ],
   "source": [
    "for x in tested_algorithms:\n",
    "    benchmark_algorithm(x, \"a\" * 600000 + \"b\", \"a\" * 200000 + \"b\")"
   ]
  },
  {
   "cell_type": "markdown",
   "metadata": {},
   "source": [
    "### Worstcase pattern for DFA algorithm"
   ]
  },
  {
   "cell_type": "code",
   "execution_count": 28,
   "metadata": {},
   "outputs": [],
   "source": [
    "import time\n",
    "\n",
    "def time_to_compute_transition_table(algorithm, pattern):\n",
    "    result = 0\n",
    "    for i in range (10):\n",
    "        start = time.time()\n",
    "        algorithm(pattern)\n",
    "        result += time.time() - start\n",
    "    print(\"Running time of \" + algorithm.__name__ + \"  = \" + str(round(result/10,4)) + \"s\")"
   ]
  },
  {
   "cell_type": "code",
   "execution_count": 36,
   "metadata": {},
   "outputs": [],
   "source": [
    "chars = []\n",
    "for i in range (1024):\n",
    "    chars.append(chr(i))"
   ]
  },
  {
   "cell_type": "code",
   "execution_count": 37,
   "metadata": {},
   "outputs": [
    {
     "name": "stdout",
     "output_type": "stream",
     "text": [
      "Running time of compute_prefix_array  = 0.0008s\n",
      "Running time of prepare_automata  = 0.1568s\n"
     ]
    }
   ],
   "source": [
    "\n",
    "time_to_compute_transition_table(substring_algorithms.compute_prefix_array, chars)\n",
    "time_to_compute_transition_table(substring_algorithms.prepare_automata, chars)"
   ]
  },
  {
   "cell_type": "code",
   "execution_count": null,
   "metadata": {},
   "outputs": [],
   "source": []
  }
 ],
 "metadata": {
  "kernelspec": {
   "display_name": "Python 3",
   "language": "python",
   "name": "python3"
  },
  "language_info": {
   "codemirror_mode": {
    "name": "ipython",
    "version": 3
   },
   "file_extension": ".py",
   "mimetype": "text/x-python",
   "name": "python",
   "nbconvert_exporter": "python",
   "pygments_lexer": "ipython3",
   "version": "3.7.3"
  }
 },
 "nbformat": 4,
 "nbformat_minor": 2
}
